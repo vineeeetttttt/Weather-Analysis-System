{
 "cells": [
  {
   "cell_type": "code",
   "execution_count": 3,
   "id": "4bc14dab-b78f-4a27-9700-238e383c0e2d",
   "metadata": {},
   "outputs": [],
   "source": [
    "import pandas as pd;\n",
    "import numpy as np;\n",
    "import matplotlib.pyplot as plt;\n",
    "import seaborn as sns;"
   ]
  },
  {
   "cell_type": "code",
   "execution_count": 4,
   "id": "dc298be3-1b53-4494-8fad-06fc843b55eb",
   "metadata": {},
   "outputs": [
    {
     "name": "stdout",
     "output_type": "stream",
     "text": [
      "            Date  Rain (mm)  Max_Temp_C  Min_Temp_C  Wind_Speed_kmph  \\\n",
      "0     2021-01-01        0.0          28        15.0               10   \n",
      "1     2021-01-02        0.0          29        16.0               12   \n",
      "2     2021-01-03        0.0          27        14.0               11   \n",
      "3     2021-01-04        0.0          26        13.0                9   \n",
      "4     2021-01-05        0.0          29        15.0               10   \n",
      "...          ...        ...         ...         ...              ...   \n",
      "1456  2024-12-27        0.0          23        10.0               10   \n",
      "1457  2024-12-28        0.0          22         9.0               13   \n",
      "1458  2024-12-29        0.0          24        11.0               10   \n",
      "1459  2024-12-30        0.0          25        12.0                9   \n",
      "1460  2024-12-31        0.0          23        10.0               11   \n",
      "\n",
      "     Wind_Direction  Humidity_percent  \n",
      "0                 N                45  \n",
      "1                NE                42  \n",
      "2                 E                48  \n",
      "3                SE                50  \n",
      "4                 S                40  \n",
      "...             ...               ...  \n",
      "1456              W                63  \n",
      "1457             NW                65  \n",
      "1458              N                62  \n",
      "1459             NE                60  \n",
      "1460              E                64  \n",
      "\n",
      "[1461 rows x 7 columns]\n"
     ]
    }
   ],
   "source": [
    "df=pd.read_csv(\"D:/DATA ANALYSIS/Weather Analysis/ahemdabad last 4 yeras.csv.txt\")\n",
    "print(df);"
   ]
  },
  {
   "cell_type": "code",
   "execution_count": 5,
   "id": "b7fcae37-7e08-48af-9072-eb9c0abe40d8",
   "metadata": {},
   "outputs": [
    {
     "name": "stdout",
     "output_type": "stream",
     "text": [
      "Date                0\n",
      "Rain (mm)           8\n",
      "Max_Temp_C          0\n",
      "Min_Temp_C          2\n",
      "Wind_Speed_kmph     0\n",
      "Wind_Direction      0\n",
      "Humidity_percent    0\n",
      "dtype: int64\n"
     ]
    }
   ],
   "source": [
    "print(df.isnull().sum())"
   ]
  },
  {
   "cell_type": "code",
   "execution_count": 6,
   "id": "66e66cd0-e4a4-4704-801b-f1435497bdbc",
   "metadata": {},
   "outputs": [],
   "source": [
    "df['Rain (mm)'] = df['Rain (mm)'].fillna(df['Rain (mm)'].mean())"
   ]
  },
  {
   "cell_type": "code",
   "execution_count": 7,
   "id": "e3bcd4d8-4115-402a-addf-dd4f7a5e57ad",
   "metadata": {},
   "outputs": [
    {
     "name": "stdout",
     "output_type": "stream",
     "text": [
      "Date                0\n",
      "Rain (mm)           0\n",
      "Max_Temp_C          0\n",
      "Min_Temp_C          2\n",
      "Wind_Speed_kmph     0\n",
      "Wind_Direction      0\n",
      "Humidity_percent    0\n",
      "dtype: int64\n"
     ]
    }
   ],
   "source": [
    "print(df.isnull().sum())"
   ]
  },
  {
   "cell_type": "code",
   "execution_count": 26,
   "id": "be1134c1-3459-46d3-a794-b9a31d69df7e",
   "metadata": {},
   "outputs": [],
   "source": [
    "df['Min_Temp_C'] = df['Min_Temp_C'].fillna(df['Min_Temp_C'].mean())"
   ]
  },
  {
   "cell_type": "code",
   "execution_count": 9,
   "id": "50bb1744-2fd3-4ac6-b5cd-6012b54989f8",
   "metadata": {},
   "outputs": [
    {
     "name": "stdout",
     "output_type": "stream",
     "text": [
      "Date                0\n",
      "Rain (mm)           0\n",
      "Max_Temp_C          0\n",
      "Min_Temp_C          0\n",
      "Wind_Speed_kmph     0\n",
      "Wind_Direction      0\n",
      "Humidity_percent    0\n",
      "dtype: int64\n"
     ]
    }
   ],
   "source": [
    "print(df.isnull().sum())"
   ]
  },
  {
   "cell_type": "code",
   "execution_count": 10,
   "id": "799fff50-edde-43ee-9db8-41f8a34cb546",
   "metadata": {},
   "outputs": [
    {
     "name": "stdout",
     "output_type": "stream",
     "text": [
      "<class 'pandas.core.frame.DataFrame'>\n",
      "RangeIndex: 1461 entries, 0 to 1460\n",
      "Data columns (total 7 columns):\n",
      " #   Column            Non-Null Count  Dtype  \n",
      "---  ------            --------------  -----  \n",
      " 0   Date              1461 non-null   object \n",
      " 1   Rain (mm)         1461 non-null   float64\n",
      " 2   Max_Temp_C        1461 non-null   int64  \n",
      " 3   Min_Temp_C        1461 non-null   float64\n",
      " 4   Wind_Speed_kmph   1461 non-null   int64  \n",
      " 5   Wind_Direction    1461 non-null   object \n",
      " 6   Humidity_percent  1461 non-null   int64  \n",
      "dtypes: float64(2), int64(3), object(2)\n",
      "memory usage: 80.0+ KB\n",
      "None\n"
     ]
    }
   ],
   "source": [
    "print(df.info())"
   ]
  },
  {
   "cell_type": "code",
   "execution_count": 11,
   "id": "a13c287d-df1e-4251-bfbe-241f1c12da3a",
   "metadata": {},
   "outputs": [],
   "source": [
    "df['Date'] = pd.to_datetime(df['Date']);"
   ]
  },
  {
   "cell_type": "code",
   "execution_count": 12,
   "id": "7d60f4f8-3ce5-4858-b572-2f6da69a2d99",
   "metadata": {},
   "outputs": [
    {
     "name": "stdout",
     "output_type": "stream",
     "text": [
      "<class 'pandas.core.frame.DataFrame'>\n",
      "RangeIndex: 1461 entries, 0 to 1460\n",
      "Data columns (total 7 columns):\n",
      " #   Column            Non-Null Count  Dtype         \n",
      "---  ------            --------------  -----         \n",
      " 0   Date              1461 non-null   datetime64[ns]\n",
      " 1   Rain (mm)         1461 non-null   float64       \n",
      " 2   Max_Temp_C        1461 non-null   int64         \n",
      " 3   Min_Temp_C        1461 non-null   float64       \n",
      " 4   Wind_Speed_kmph   1461 non-null   int64         \n",
      " 5   Wind_Direction    1461 non-null   object        \n",
      " 6   Humidity_percent  1461 non-null   int64         \n",
      "dtypes: datetime64[ns](1), float64(2), int64(3), object(1)\n",
      "memory usage: 80.0+ KB\n",
      "None\n"
     ]
    }
   ],
   "source": [
    "print(df.info())"
   ]
  },
  {
   "cell_type": "code",
   "execution_count": 43,
   "id": "7ba84f8c-e46a-4121-8750-31c79968c2ca",
   "metadata": {},
   "outputs": [],
   "source": [
    "df['Years']=df['Date'].dt.year\n",
    "df['Months']=df['Date'].dt.month"
   ]
  },
  {
   "cell_type": "code",
   "execution_count": 46,
   "id": "c19c0295-7e9e-417a-9583-fd9e2cc51fff",
   "metadata": {},
   "outputs": [
    {
     "name": "stdout",
     "output_type": "stream",
     "text": [
      "<class 'pandas.core.frame.DataFrame'>\n",
      "RangeIndex: 1461 entries, 0 to 1460\n",
      "Data columns (total 9 columns):\n",
      " #   Column            Non-Null Count  Dtype         \n",
      "---  ------            --------------  -----         \n",
      " 0   Date              1461 non-null   datetime64[ns]\n",
      " 1   Rain (mm)         1461 non-null   float64       \n",
      " 2   Max_Temp_C        1461 non-null   int64         \n",
      " 3   Min_Temp_C        1461 non-null   float64       \n",
      " 4   Wind_Speed_kmph   1461 non-null   int64         \n",
      " 5   Wind_Direction    1461 non-null   object        \n",
      " 6   Humidity_percent  1461 non-null   int64         \n",
      " 7   Years             1461 non-null   int32         \n",
      " 8   Months            1461 non-null   int32         \n",
      "dtypes: datetime64[ns](1), float64(2), int32(2), int64(3), object(1)\n",
      "memory usage: 91.4+ KB\n",
      "None\n"
     ]
    }
   ],
   "source": [
    "print(df.info())"
   ]
  },
  {
   "cell_type": "code",
   "execution_count": 32,
   "id": "f2608aaf-be6d-49e6-bb1b-ac087f2f2f78",
   "metadata": {},
   "outputs": [
    {
     "name": "stdout",
     "output_type": "stream",
     "text": [
      "   Years  Max_Temp_C\n",
      "0   2021   31.758904\n",
      "1   2022   31.758904\n",
      "2   2023   31.758904\n",
      "3   2024   31.054645\n"
     ]
    }
   ],
   "source": [
    "yearly_datamax = df.groupby('Years')['Max_Temp_C'].mean().reset_index()\n",
    "print(yearly_datamax)\n"
   ]
  },
  {
   "cell_type": "code",
   "execution_count": 33,
   "id": "a84bcba9-fc73-4f7a-9cff-149e8b20a2f8",
   "metadata": {},
   "outputs": [
    {
     "name": "stdout",
     "output_type": "stream",
     "text": [
      "   Years  Min_Temp_C\n",
      "0   2021   20.277201\n",
      "1   2022   20.277201\n",
      "2   2023   20.284932\n",
      "3   2024   19.874317\n"
     ]
    }
   ],
   "source": [
    "yearly_datamin = df.groupby('Years')['Min_Temp_C'].mean().reset_index()\n",
    "print(yearly_datamin)"
   ]
  },
  {
   "cell_type": "code",
   "execution_count": 39,
   "id": "4c1e8b73-ac38-40c0-9af6-5c4626759bac",
   "metadata": {},
   "outputs": [
    {
     "name": "stdout",
     "output_type": "stream",
     "text": [
      "   Years  Rain (mm)\n",
      "0   2021   0.546929\n",
      "1   2022   0.546929\n",
      "2   2023   0.549863\n",
      "3   2024   1.383607\n"
     ]
    }
   ],
   "source": [
    "yearly_data_rain_mean = df.groupby('Years')['Rain (mm)'].mean().reset_index()\n",
    "print(yearly_data_rain_mean)"
   ]
  },
  {
   "cell_type": "code",
   "execution_count": 40,
   "id": "a8f99e52-8ca8-4671-af02-d957669794bd",
   "metadata": {},
   "outputs": [
    {
     "name": "stdout",
     "output_type": "stream",
     "text": [
      "   Years  Rain (mm)\n",
      "0   2021       30.5\n",
      "1   2022       30.5\n",
      "2   2023       30.5\n",
      "3   2024       30.0\n"
     ]
    }
   ],
   "source": [
    "yearly_data_rain_max = df.groupby('Years')['Rain (mm)'].max().reset_index()\n",
    "print(yearly_data_rain_max)"
   ]
  },
  {
   "cell_type": "code",
   "execution_count": 50,
   "id": "e0bfa01e-b89d-40a5-847a-703ab38e1073",
   "metadata": {},
   "outputs": [
    {
     "name": "stdout",
     "output_type": "stream",
     "text": [
      "   Years  Humidity_percent\n",
      "0   2021         48.205479\n",
      "1   2022         48.205479\n",
      "2   2023         48.205479\n",
      "3   2024         51.060109\n"
     ]
    }
   ],
   "source": [
    "yearly_data_hum = df.groupby('Years')['Humidity_percent'].mean().reset_index()\n",
    "print(yearly_data_hum)"
   ]
  },
  {
   "cell_type": "code",
   "execution_count": 49,
   "id": "2a97f331-95f0-4c69-aa9c-483ad29e509a",
   "metadata": {},
   "outputs": [
    {
     "name": "stdout",
     "output_type": "stream",
     "text": [
      "   Years  Humidity_percent\n",
      "0   2021                98\n",
      "1   2022                98\n",
      "2   2023                98\n",
      "3   2024                98\n"
     ]
    }
   ],
   "source": [
    "yearly_data_hum_max = df.groupby('Years')['Humidity_percent'].max().reset_index()\n",
    "print(yearly_data_hum_max)"
   ]
  },
  {
   "cell_type": "code",
   "execution_count": 58,
   "id": "6d0ed24f-2db2-4ba3-90a5-d23e2bb29c49",
   "metadata": {},
   "outputs": [
    {
     "name": "stdout",
     "output_type": "stream",
     "text": [
      "   Years  Wind_Speed_kmph\n",
      "0   2021        11.583562\n",
      "1   2022        11.583562\n",
      "2   2023        11.583562\n",
      "3   2024        12.838798\n"
     ]
    }
   ],
   "source": [
    "yearly_data_ws = df.groupby('Years')['Wind_Speed_kmph'].mean().reset_index()\n",
    "print(yearly_data_ws)"
   ]
  },
  {
   "cell_type": "code",
   "execution_count": 57,
   "id": "0c9672c5-b739-453f-ae0d-9b1a9924b033",
   "metadata": {},
   "outputs": [
    {
     "name": "stdout",
     "output_type": "stream",
     "text": [
      "   Years  Wind_Speed_kmph\n",
      "0   2021               34\n",
      "1   2022               34\n",
      "2   2023               34\n",
      "3   2024               30\n"
     ]
    }
   ],
   "source": [
    "yearly_data_wsmax = df.groupby('Years')['Wind_Speed_kmph'].max().reset_index()\n",
    "print(yearly_data_wsmax)"
   ]
  },
  {
   "cell_type": "code",
   "execution_count": 56,
   "id": "3a68498a-684e-45ad-90db-90dbac8b86bc",
   "metadata": {},
   "outputs": [
    {
     "name": "stdout",
     "output_type": "stream",
     "text": [
      "   Years  Wind_Speed_kmph\n",
      "0   2021                6\n",
      "1   2022                6\n",
      "2   2023                6\n",
      "3   2024                7\n"
     ]
    }
   ],
   "source": [
    "yearly_data_wsmin = df.groupby('Years')['Wind_Speed_kmph'].min().reset_index()\n",
    "print(yearly_data_wsmin)"
   ]
  },
  {
   "cell_type": "code",
   "execution_count": 74,
   "id": "4fa74b41-a9b7-437f-9dfa-b122590c5556",
   "metadata": {},
   "outputs": [
    {
     "data": {
      "text/plain": [
       "([<matplotlib.axis.XTick at 0x271ede1d590>,\n",
       "  <matplotlib.axis.XTick at 0x271edfc4550>,\n",
       "  <matplotlib.axis.XTick at 0x271edfc4cd0>,\n",
       "  <matplotlib.axis.XTick at 0x271edfc5450>],\n",
       " [Text(0.175, 0, '2021'),\n",
       "  Text(1.175, 0, '2022'),\n",
       "  Text(2.175, 0, '2023'),\n",
       "  Text(3.175, 0, '2024')])"
      ]
     },
     "execution_count": 74,
     "metadata": {},
     "output_type": "execute_result"
    },
    {
     "data": {
      "image/png": "[encoded data removed]",
      "text/plain": [
       "<Figure size 640x480 with 1 Axes>"
      ]
     },
     "metadata": {},
     "output_type": "display_data"
    }
   ],
   "source": [
    "import matplotlib.pyplot as plt;\n",
    "w=0.35\n",
    "bar1=[0,1,2,3]\n",
    "bar2=[i+w for i in bar1]\n",
    "plt.bar(bar1,yearly_datamax['Max_Temp_C'],w,color='lightcoral', edgecolor='grey',label=\"Max Temp\")\n",
    "plt.bar(bar2,yearly_datamin['Min_Temp_C'],w,color='skyblue', edgecolor='grey',label=\"Min Temp\")\n",
    "plt.xlabel('Years', fontweight='bold', fontsize=12)\n",
    "plt.ylabel('Temperature (°C)', fontweight='bold', fontsize=12)\n",
    "plt.title('Yearly Max and Min Temperatures', fontweight='bold', fontsize=14)\n",
    "plt.xticks([r + w / 2 for r in bar1],yearly_datamax['Years'], rotation=45, ha='right')"
   ]
  },
  {
   "cell_type": "code",
   "execution_count": 47,
   "id": "13f90e33-3673-4d37-98a8-502edbd1a626",
   "metadata": {},
   "outputs": [
    {
     "data": {
      "text/plain": [
       "<matplotlib.collections.PathCollection at 0x271e9a2cad0>"
      ]
     },
     "execution_count": 47,
     "metadata": {},
     "output_type": "execute_result"
    },
    {
     "data": {
      "image/png": "[encoded data removed]",
      "text/plain": [
       "<Figure size 640x480 with 1 Axes>"
      ]
     },
     "metadata": {},
     "output_type": "display_data"
    }
   ],
   "source": [
    "plt.scatter(df['Months'], df['Rain (mm)'], alpha=0.7, color='blue', s=20)"
   ]
  },
  {
   "cell_type": "code",
   "execution_count": 72,
   "id": "d123283d-b4b0-4946-9900-f97ee5c02deb",
   "metadata": {},
   "outputs": [
    {
     "data": {
      "image/png": "[encoded data removed]",
      "text/plain": [
       "<Figure size 640x480 with 1 Axes>"
      ]
     },
     "metadata": {},
     "output_type": "display_data"
    }
   ],
   "source": [
    "\n",
    "plt.plot(yearly_data_hum['Years'], yearly_data_hum['Humidity_percent'], color='darkorange', marker='o', linestyle='-', markersize=5)\n",
    "plt.title('Humidity Percent')\n",
    "plt.xlabel('Years')\n",
    "plt.ylabel('Humidity')\n",
    "plt.grid(True, linestyle='--', alpha=0.7)\n",
    "plt.tight_layout()\n",
    "plt.show()"
   ]
  },
  {
   "cell_type": "code",
   "execution_count": 66,
   "id": "1d8f40f9-108e-4fc1-90eb-2f4eea4e5506",
   "metadata": {},
   "outputs": [
    {
     "data": {
      "image/png": "[encoded data removed]",
      "text/plain": [
       "<Figure size 640x480 with 1 Axes>"
      ]
     },
     "metadata": {},
     "output_type": "display_data"
    }
   ],
   "source": [
    "plt.plot(yearly_data_ws['Years'], yearly_data_ws['Wind_Speed_kmph'], color='darkorange', marker='o', linestyle='-', markersize=5, label=\"mean speed\")\n",
    "plt.plot(yearly_data_wsmax['Years'], yearly_data_wsmax['Wind_Speed_kmph'], color='green', marker='o', linestyle='-', markersize=5, label=\"max speed\")\n",
    "plt.plot(yearly_data_wsmin['Years'], yearly_data_wsmin['Wind_Speed_kmph'], color='blue', marker='o', linestyle='-', markersize=5,label=\"min speed\")\n",
    "plt.title('Wind Analysis')\n",
    "plt.xlabel('Years')\n",
    "plt.ylabel('Wind Speed')\n",
    "plt.grid(True, linestyle='--', alpha=0.7)\n",
    "plt.tight_layout()\n",
    "plt.show()"
   ]
  },
  {
   "cell_type": "code",
   "execution_count": null,
   "id": "7e854937-a883-493f-aa37-492a9a2a6a93",
   "metadata": {},
   "outputs": [],
   "source": []
  }
 ],
 "metadata": {
  "kernelspec": {
   "display_name": "Python 3 (ipykernel)",
   "language": "python",
   "name": "python3"
  },
  "language_info": {
   "codemirror_mode": {
    "name": "ipython",
    "version": 3
   },
   "file_extension": ".py",
   "mimetype": "text/x-python",
   "name": "python",
   "nbconvert_exporter": "python",
   "pygments_lexer": "ipython3",
   "version": "3.13.1"
  }
 },
 "nbformat": 4,
 "nbformat_minor": 5
}
